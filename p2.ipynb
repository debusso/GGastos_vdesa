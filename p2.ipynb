{
 "cells": [
  {
   "cell_type": "code",
   "execution_count": 1,
   "id": "08f4c6ba-f50e-45e4-a2f7-cbaa8a0030b5",
   "metadata": {},
   "outputs": [],
   "source": [
    "# Cómo importar las librerías\n",
    "import xlwings  as xw\n",
    "import numpy    as np\n",
    "import pandas   as pd\n",
    "import datetime as dt\n",
    "import os\n",
    "import sys\n",
    "from pathlib import Path\n",
    "import re\n",
    "\n",
    "# Gráficos\n",
    "# ==============================================================================\n",
    "import matplotlib.pyplot as plt\n",
    "import seaborn as sns\n",
    "#%matplotlib inline\n",
    "plt.style.use('fivethirtyeight')\n",
    "\n",
    "#from statsmodels.graphics.tsaplots import plot_acf\n",
    "#from statsmodels.graphics.tsaplots import plot_pacf\n",
    "\n",
    "\n",
    "# Configuración warnings\n",
    "# ==============================================================================\n",
    "import warnings\n",
    "warnings.filterwarnings('ignore')\n",
    "\n",
    "# Configuracion Pandas\n",
    "pd.set_option('display.max_rows', 200)\n",
    "pd.set_option('display.max_columns', None)\n",
    "pd.set_option('display.width', None)\n",
    "pd.set_option('display.max_colwidth', -1)\n",
    "pd.set_option('display.float_format', '{:.2f}'.format)"
   ]
  },
  {
   "cell_type": "code",
   "execution_count": 2,
   "id": "5870f0cc-e3a3-43bb-9cda-172bf492b3b2",
   "metadata": {},
   "outputs": [],
   "source": [
    "libro = xw.Book('GGastos_v060422.xlsm')\n",
    "periodo = libro.sheets('Menu').range('H2').value\n",
    "mes  = periodo[0:2]\n",
    "anio = periodo[2:]\n",
    "carpeta = Path(r'G:\\Mi unidad\\Mis_Pagos', anio, periodo)\n",
    "Archivo = list(carpeta.glob('CA*$*0020382809*.xls'))"
   ]
  },
  {
   "cell_type": "code",
   "execution_count": 3,
   "id": "0c89df94-57bc-4a14-8c93-ef47e43d26e6",
   "metadata": {},
   "outputs": [
    {
     "data": {
      "text/plain": [
       "[WindowsPath('G:/Mi unidad/Mis_Pagos/2022/022022/CA $ 900 0020382809-Movimientos.xls')]"
      ]
     },
     "execution_count": 3,
     "metadata": {},
     "output_type": "execute_result"
    }
   ],
   "source": [
    "Archivo"
   ]
  },
  {
   "cell_type": "code",
   "execution_count": 4,
   "id": "126c111b-7b23-4ebc-9955-352414d5ea1a",
   "metadata": {},
   "outputs": [],
   "source": [
    "datos = pd.read_excel(Archivo[0], names=['Fecha', 'Concepto', 'Descripcion', 'Monto', 'NroComprobante'], \n",
    "                        skiprows=5, skipfooter=2, engine='xlrd')  \n",
    "datos['Fecha'] = pd.to_datetime(datos['Fecha'], format='%d/%m/%Y')\n",
    "\n",
    "datos['Monto'] = datos['Monto'].str.lstrip('$')\n",
    "datos['Monto'] = datos['Monto'].str.strip()\n",
    "datos['Monto'] = datos['Monto'].str.replace('.', '',  regex=False)  # Elimina los puntos de miles\n",
    "datos['Monto'] = datos['Monto'].str.replace(',', '.', regex=False)  # Reemplaza la coma decimal por el punto decimal\n",
    "datos['Monto'] = pd.to_numeric(datos['Monto'])  # Pasa de type Object a Float\n",
    "    #datos['Monto'] = datos['Monto'].astype(float)\n",
    "\n",
    "datos['NroComprobante'] = datos['NroComprobante'].astype(str)\n",
    "\n",
    "archivo_cp = Path(r'G:\\Mi unidad\\Mis_Pagos', anio, periodo, 'Movi.xlsx')\n",
    "datos.to_excel(archivo_cp, engine='openpyxl')\n",
    "Movi = datos.copy()\n",
    "\n",
    "datos_ord = Movi.sort_values(by='Concepto', ascending=True)"
   ]
  },
  {
   "cell_type": "code",
   "execution_count": 28,
   "id": "40d62dfe-1db1-4a98-bf92-6191f2dd06bb",
   "metadata": {},
   "outputs": [],
   "source": [
    "d = Movi.loc[Movi[\"Monto\"] <= 0, :]\n",
    "debitos = d.copy()"
   ]
  },
  {
   "cell_type": "code",
   "execution_count": 8,
   "id": "2df3424e-f89f-4c42-9a5d-f9d549bf60b8",
   "metadata": {},
   "outputs": [],
   "source": [
    "debitos['Tarjetas'] = np.nan"
   ]
  },
  {
   "cell_type": "code",
   "execution_count": 10,
   "id": "eccb892f-9804-436d-adbb-03e4af865bd2",
   "metadata": {},
   "outputs": [],
   "source": [
    "debitos['Inversiones'] = np.nan"
   ]
  },
  {
   "cell_type": "code",
   "execution_count": 12,
   "id": "a97fad68-da2c-473e-a1da-204b3d0a904f",
   "metadata": {},
   "outputs": [],
   "source": [
    "debitos['Tarjetas'] = debitos.loc[debitos['Descripcion'].str.contains('TARJNARANJA.+', regex=True, na=False) | debitos['Descripcion'].str.contains('VISA.+', regex=True, na=False), 'Monto']\n"
   ]
  },
  {
   "cell_type": "code",
   "execution_count": 14,
   "id": "89d6b2ce-61ad-44bb-87ff-fc41bc525de4",
   "metadata": {},
   "outputs": [],
   "source": [
    "debitos.loc[debitos['Descripcion'].str.contains('TARJNARANJA.+', regex=True, na=False), 'Monto'] =  np.nan "
   ]
  },
  {
   "cell_type": "code",
   "execution_count": 23,
   "id": "19e75027-a361-46b9-8e02-577b3e5f8bfe",
   "metadata": {},
   "outputs": [],
   "source": [
    "debitos.loc[debitos['Descripcion'].str.contains('pepe.+', regex=True, na=False), 'Monto'] = np.nan"
   ]
  },
  {
   "cell_type": "code",
   "execution_count": 24,
   "id": "d15214a6-eba1-4985-b92f-24776e58de97",
   "metadata": {},
   "outputs": [
    {
     "data": {
      "text/plain": [
       "Series([], Name: Monto, dtype: float64)"
      ]
     },
     "execution_count": 24,
     "metadata": {},
     "output_type": "execute_result"
    }
   ],
   "source": [
    "debitos.loc[debitos['Descripcion'].str.contains('pepe.+', regex=True, na=False), 'Monto'] "
   ]
  },
  {
   "cell_type": "code",
   "execution_count": 26,
   "id": "089c4952-65e4-42e7-a69f-4c7c29f462ac",
   "metadata": {},
   "outputs": [],
   "source": [
    "debitos['Inversiones'] = debitos.loc[debitos['Concepto'].str.contains('D.bito plazo fijo.+', regex=True, na=False) |                                                                                                debitos['Concepto'].str.contains('D.bito operaci.n.+cambio ME.+', regex=True, na=False) |                                                                                                                     debitos['Concepto'].str.contains('IMPUESTO P.A.I.S.+', regex=True, na=False) |                                                                                                                                      debitos['Concepto'].str.contains('.+GAN.+TENENCIA.+4815/20.+', regex=True, na=False), 'Monto']"
   ]
  },
  {
   "cell_type": "code",
   "execution_count": 30,
   "id": "832dcd11-9795-4591-a731-074667fa0ae2",
   "metadata": {},
   "outputs": [],
   "source": [
    "debitos['Inversiones'] = debitos.loc[debitos['Concepto'].str.contains('D.bito plazo fijo.+', regex=True, na=False) | \\\n",
    "                                         debitos['Concepto'].str.contains('D.bito operaci.n.+cambio ME.+', regex=True, na=False) | \\\n",
    "                                         debitos['Concepto'].str.contains('IMPUESTO P.A.I.S.+', regex=True, na=False) | \\\n",
    "                                         debitos['Concepto'].str.contains('.+GAN.+TENENCIA.+4815/20.+', regex=True, na=False), 'Monto']\n",
    "    "
   ]
  },
  {
   "cell_type": "code",
   "execution_count": 32,
   "id": "fa3cc1e3-57b9-4d13-87b5-6f83cbbb479d",
   "metadata": {},
   "outputs": [
    {
     "data": {
      "text/html": [
       "<div>\n",
       "<style scoped>\n",
       "    .dataframe tbody tr th:only-of-type {\n",
       "        vertical-align: middle;\n",
       "    }\n",
       "\n",
       "    .dataframe tbody tr th {\n",
       "        vertical-align: top;\n",
       "    }\n",
       "\n",
       "    .dataframe thead th {\n",
       "        text-align: right;\n",
       "    }\n",
       "</style>\n",
       "<table border=\"1\" class=\"dataframe\">\n",
       "  <thead>\n",
       "    <tr style=\"text-align: right;\">\n",
       "      <th></th>\n",
       "      <th>Fecha</th>\n",
       "      <th>Concepto</th>\n",
       "      <th>Descripcion</th>\n",
       "      <th>Monto</th>\n",
       "      <th>NroComprobante</th>\n",
       "      <th>Inversiones</th>\n",
       "    </tr>\n",
       "  </thead>\n",
       "  <tbody>\n",
       "    <tr>\n",
       "      <th>0</th>\n",
       "      <td>2022-02-25</td>\n",
       "      <td>Compras Maestro POSNet</td>\n",
       "      <td>VIUMI*CARNES EL FARAON</td>\n",
       "      <td>-1500.00</td>\n",
       "      <td>284329</td>\n",
       "      <td>NaN</td>\n",
       "    </tr>\n",
       "    <tr>\n",
       "      <th>1</th>\n",
       "      <td>2022-02-25</td>\n",
       "      <td>Compras Maestro POSNet</td>\n",
       "      <td>FRUTOS DE REY</td>\n",
       "      <td>-1078.00</td>\n",
       "      <td>470226</td>\n",
       "      <td>NaN</td>\n",
       "    </tr>\n",
       "    <tr>\n",
       "      <th>2</th>\n",
       "      <td>2022-02-25</td>\n",
       "      <td>TRANSF.HB.EXENTO</td>\n",
       "      <td>23208706454-NAVAS, MARIA GABRIELA-VAR</td>\n",
       "      <td>-50000.00</td>\n",
       "      <td>473376</td>\n",
       "      <td>NaN</td>\n",
       "    </tr>\n",
       "    <tr>\n",
       "      <th>3</th>\n",
       "      <td>2022-02-25</td>\n",
       "      <td>Mantenimiento mundo Bancor</td>\n",
       "      <td>NaN</td>\n",
       "      <td>-1432.22</td>\n",
       "      <td>0</td>\n",
       "      <td>NaN</td>\n",
       "    </tr>\n",
       "    <tr>\n",
       "      <th>4</th>\n",
       "      <td>2022-02-25</td>\n",
       "      <td>IVA sobre comisión</td>\n",
       "      <td>NaN</td>\n",
       "      <td>-300.77</td>\n",
       "      <td>0</td>\n",
       "      <td>NaN</td>\n",
       "    </tr>\n",
       "    <tr>\n",
       "      <th>5</th>\n",
       "      <td>2022-02-22</td>\n",
       "      <td>Compras Maestro POSNet</td>\n",
       "      <td>CHICOM SA</td>\n",
       "      <td>-937.50</td>\n",
       "      <td>22209</td>\n",
       "      <td>NaN</td>\n",
       "    </tr>\n",
       "    <tr>\n",
       "      <th>6</th>\n",
       "      <td>2022-02-22</td>\n",
       "      <td>Compras Maestro POSNet</td>\n",
       "      <td>VIUMI*CARNES EL FARAON</td>\n",
       "      <td>-780.00</td>\n",
       "      <td>773913</td>\n",
       "      <td>NaN</td>\n",
       "    </tr>\n",
       "    <tr>\n",
       "      <th>7</th>\n",
       "      <td>2022-02-18</td>\n",
       "      <td>Compras Maestro POSNet</td>\n",
       "      <td>MERCADOPAGO*EQUUS</td>\n",
       "      <td>-850.00</td>\n",
       "      <td>761673</td>\n",
       "      <td>NaN</td>\n",
       "    </tr>\n",
       "    <tr>\n",
       "      <th>8</th>\n",
       "      <td>2022-02-18</td>\n",
       "      <td>Compras Maestro POSNet</td>\n",
       "      <td>CLEMENTE FULL SHOP</td>\n",
       "      <td>-590.00</td>\n",
       "      <td>844443</td>\n",
       "      <td>NaN</td>\n",
       "    </tr>\n",
       "    <tr>\n",
       "      <th>9</th>\n",
       "      <td>2022-02-18</td>\n",
       "      <td>Compras Maestro POSNet</td>\n",
       "      <td>DELICIUS</td>\n",
       "      <td>-570.00</td>\n",
       "      <td>56977</td>\n",
       "      <td>NaN</td>\n",
       "    </tr>\n",
       "    <tr>\n",
       "      <th>10</th>\n",
       "      <td>2022-02-17</td>\n",
       "      <td>TRANSF.HB.EXENTO</td>\n",
       "      <td>30712339442-INSTITUTO TRAUMATOLOGICO DE CO-FAC</td>\n",
       "      <td>-106000.00</td>\n",
       "      <td>88800</td>\n",
       "      <td>NaN</td>\n",
       "    </tr>\n",
       "    <tr>\n",
       "      <th>11</th>\n",
       "      <td>2022-02-17</td>\n",
       "      <td>Extracción en efectivo InterSucursal</td>\n",
       "      <td>NaN</td>\n",
       "      <td>-80000.00</td>\n",
       "      <td>34</td>\n",
       "      <td>NaN</td>\n",
       "    </tr>\n",
       "    <tr>\n",
       "      <th>12</th>\n",
       "      <td>2022-02-16</td>\n",
       "      <td>Compras Maestro POSNet</td>\n",
       "      <td>MERCADOPAGO*AIRESDELAS</td>\n",
       "      <td>-550.00</td>\n",
       "      <td>713263</td>\n",
       "      <td>NaN</td>\n",
       "    </tr>\n",
       "    <tr>\n",
       "      <th>13</th>\n",
       "      <td>2022-02-16</td>\n",
       "      <td>Compras Maestro POSNet</td>\n",
       "      <td>DSA FCIA CRISTAL</td>\n",
       "      <td>-400.00</td>\n",
       "      <td>28191</td>\n",
       "      <td>NaN</td>\n",
       "    </tr>\n",
       "    <tr>\n",
       "      <th>14</th>\n",
       "      <td>2022-02-16</td>\n",
       "      <td>Compras Maestro POSNet</td>\n",
       "      <td>DSA FCIA CRISTAL</td>\n",
       "      <td>-902.00</td>\n",
       "      <td>28189</td>\n",
       "      <td>NaN</td>\n",
       "    </tr>\n",
       "    <tr>\n",
       "      <th>15</th>\n",
       "      <td>2022-02-16</td>\n",
       "      <td>TRANSF.HB.EXENTO</td>\n",
       "      <td>23129889209-KRELL JORGE LEONARDO-VAR</td>\n",
       "      <td>-2500.00</td>\n",
       "      <td>891585</td>\n",
       "      <td>NaN</td>\n",
       "    </tr>\n",
       "    <tr>\n",
       "      <th>16</th>\n",
       "      <td>2022-02-16</td>\n",
       "      <td>TRANSF.HB.EXENTO</td>\n",
       "      <td>27396891781-MARIA FLORENCIA BUSSO-VAR</td>\n",
       "      <td>-5000.00</td>\n",
       "      <td>891459</td>\n",
       "      <td>NaN</td>\n",
       "    </tr>\n",
       "    <tr>\n",
       "      <th>17</th>\n",
       "      <td>2022-02-15</td>\n",
       "      <td>Compras Maestro POSNet</td>\n",
       "      <td>FRUTOS DE REY</td>\n",
       "      <td>-970.00</td>\n",
       "      <td>250478</td>\n",
       "      <td>NaN</td>\n",
       "    </tr>\n",
       "    <tr>\n",
       "      <th>18</th>\n",
       "      <td>2022-02-15</td>\n",
       "      <td>Compras Maestro POSNet</td>\n",
       "      <td>PANIFICADORA PUGLIESE</td>\n",
       "      <td>-460.00</td>\n",
       "      <td>12786</td>\n",
       "      <td>NaN</td>\n",
       "    </tr>\n",
       "    <tr>\n",
       "      <th>19</th>\n",
       "      <td>2022-02-15</td>\n",
       "      <td>TRANSF.HB.EXENTO</td>\n",
       "      <td>27306487510-VIOLA, VALERIA NOEMI-VAR</td>\n",
       "      <td>-900.00</td>\n",
       "      <td>987566</td>\n",
       "      <td>NaN</td>\n",
       "    </tr>\n",
       "    <tr>\n",
       "      <th>21</th>\n",
       "      <td>2022-02-11</td>\n",
       "      <td>Compras Maestro POSNet</td>\n",
       "      <td>CARNES URCA SAS</td>\n",
       "      <td>-2140.00</td>\n",
       "      <td>882659</td>\n",
       "      <td>NaN</td>\n",
       "    </tr>\n",
       "    <tr>\n",
       "      <th>22</th>\n",
       "      <td>2022-02-11</td>\n",
       "      <td>Compras Maestro POSNet</td>\n",
       "      <td>DELICIUS</td>\n",
       "      <td>-1130.00</td>\n",
       "      <td>56916</td>\n",
       "      <td>NaN</td>\n",
       "    </tr>\n",
       "    <tr>\n",
       "      <th>23</th>\n",
       "      <td>2022-02-10</td>\n",
       "      <td>TRANSF.HB.EXENTO</td>\n",
       "      <td>33628302729-FUERZA AEREA ARGENTINA-CUO</td>\n",
       "      <td>-1320.00</td>\n",
       "      <td>671525</td>\n",
       "      <td>NaN</td>\n",
       "    </tr>\n",
       "    <tr>\n",
       "      <th>24</th>\n",
       "      <td>2022-02-10</td>\n",
       "      <td>TRANSF.HB.EXENTO</td>\n",
       "      <td>20411152260-OBERTI FRANCISCO RAUL-VAR</td>\n",
       "      <td>-2224.00</td>\n",
       "      <td>724839</td>\n",
       "      <td>NaN</td>\n",
       "    </tr>\n",
       "    <tr>\n",
       "      <th>25</th>\n",
       "      <td>2022-02-10</td>\n",
       "      <td>PAGO PEI- EXENTO</td>\n",
       "      <td>30643990632-GIRE S.A.-PCT000000000945</td>\n",
       "      <td>-7089.07</td>\n",
       "      <td>95458</td>\n",
       "      <td>NaN</td>\n",
       "    </tr>\n",
       "    <tr>\n",
       "      <th>26</th>\n",
       "      <td>2022-02-09</td>\n",
       "      <td>Compras Maestro POSNet</td>\n",
       "      <td>TIENDAS BAZAR COM SRL</td>\n",
       "      <td>-270.00</td>\n",
       "      <td>166384</td>\n",
       "      <td>NaN</td>\n",
       "    </tr>\n",
       "    <tr>\n",
       "      <th>27</th>\n",
       "      <td>2022-02-08</td>\n",
       "      <td>TRANSF.HB.EXENTO</td>\n",
       "      <td>27356112550-RISSO GUILLERMINA-FAC</td>\n",
       "      <td>-4500.00</td>\n",
       "      <td>494840</td>\n",
       "      <td>NaN</td>\n",
       "    </tr>\n",
       "    <tr>\n",
       "      <th>28</th>\n",
       "      <td>2022-02-08</td>\n",
       "      <td>Débito automatico recibido Camara</td>\n",
       "      <td>TARJNARANJA2</td>\n",
       "      <td>-63777.79</td>\n",
       "      <td>220207</td>\n",
       "      <td>NaN</td>\n",
       "    </tr>\n",
       "    <tr>\n",
       "      <th>30</th>\n",
       "      <td>2022-02-07</td>\n",
       "      <td>Compras Maestro POSNet</td>\n",
       "      <td>MERCADOPAGO*ELCATA</td>\n",
       "      <td>-600.00</td>\n",
       "      <td>201716</td>\n",
       "      <td>NaN</td>\n",
       "    </tr>\n",
       "    <tr>\n",
       "      <th>31</th>\n",
       "      <td>2022-02-07</td>\n",
       "      <td>Compras Maestro POSNet</td>\n",
       "      <td>DELICIUS</td>\n",
       "      <td>-680.00</td>\n",
       "      <td>56796</td>\n",
       "      <td>NaN</td>\n",
       "    </tr>\n",
       "    <tr>\n",
       "      <th>32</th>\n",
       "      <td>2022-02-07</td>\n",
       "      <td>TRANSF.HB.EXENTO</td>\n",
       "      <td>27231976197-REVOL ETELVINA ALEJANDRA-VAR</td>\n",
       "      <td>-2000.00</td>\n",
       "      <td>447635</td>\n",
       "      <td>NaN</td>\n",
       "    </tr>\n",
       "    <tr>\n",
       "      <th>33</th>\n",
       "      <td>2022-02-07</td>\n",
       "      <td>PAGO PEI- EXENTO</td>\n",
       "      <td>30643990632-GIRE S.A.-PCT000000000945</td>\n",
       "      <td>-5182.53</td>\n",
       "      <td>737146</td>\n",
       "      <td>NaN</td>\n",
       "    </tr>\n",
       "    <tr>\n",
       "      <th>34</th>\n",
       "      <td>2022-02-04</td>\n",
       "      <td>Pago de resumen desde Cajero / HomeBanking</td>\n",
       "      <td>VISA EN PESOS-************7541</td>\n",
       "      <td>-34645.20</td>\n",
       "      <td>574383</td>\n",
       "      <td>NaN</td>\n",
       "    </tr>\n",
       "    <tr>\n",
       "      <th>37</th>\n",
       "      <td>2022-02-04</td>\n",
       "      <td>TRANSF.HB.EXENTO</td>\n",
       "      <td>33628302729-FUERZA AEREA ARGENTINA-CUO</td>\n",
       "      <td>-5380.00</td>\n",
       "      <td>321651</td>\n",
       "      <td>NaN</td>\n",
       "    </tr>\n",
       "    <tr>\n",
       "      <th>38</th>\n",
       "      <td>2022-02-03</td>\n",
       "      <td>DEBIN</td>\n",
       "      <td>20361463359-SILVI LUCIANO-FAC</td>\n",
       "      <td>-7899.55</td>\n",
       "      <td>463276</td>\n",
       "      <td>NaN</td>\n",
       "    </tr>\n",
       "    <tr>\n",
       "      <th>40</th>\n",
       "      <td>2022-02-02</td>\n",
       "      <td>Compras Maestro POSNet</td>\n",
       "      <td>LA GRUTA</td>\n",
       "      <td>-1004.40</td>\n",
       "      <td>21232</td>\n",
       "      <td>NaN</td>\n",
       "    </tr>\n",
       "    <tr>\n",
       "      <th>41</th>\n",
       "      <td>2022-02-02</td>\n",
       "      <td>Compras Maestro POSNet</td>\n",
       "      <td>MERCADOPAGO*FARMACIASO</td>\n",
       "      <td>-180.00</td>\n",
       "      <td>314933</td>\n",
       "      <td>NaN</td>\n",
       "    </tr>\n",
       "    <tr>\n",
       "      <th>43</th>\n",
       "      <td>2022-02-02</td>\n",
       "      <td>Débito operación de cambio ME Plat. digital</td>\n",
       "      <td>NaN</td>\n",
       "      <td>-11050.00</td>\n",
       "      <td>343927</td>\n",
       "      <td>-11050.00</td>\n",
       "    </tr>\n",
       "    <tr>\n",
       "      <th>44</th>\n",
       "      <td>2022-02-02</td>\n",
       "      <td>IMPUESTO P.A.I.S.</td>\n",
       "      <td>NaN</td>\n",
       "      <td>-3315.00</td>\n",
       "      <td>343927</td>\n",
       "      <td>-3315.00</td>\n",
       "    </tr>\n",
       "    <tr>\n",
       "      <th>45</th>\n",
       "      <td>2022-02-02</td>\n",
       "      <td>PERCEP GAN. TENENCIA RG 4815/20 - RESTO</td>\n",
       "      <td>NaN</td>\n",
       "      <td>-3867.50</td>\n",
       "      <td>343927</td>\n",
       "      <td>-3867.50</td>\n",
       "    </tr>\n",
       "    <tr>\n",
       "      <th>46</th>\n",
       "      <td>2022-02-01</td>\n",
       "      <td>Compras Maestro POSNet</td>\n",
       "      <td>MERCADOPAGO*NATYVOS</td>\n",
       "      <td>-470.00</td>\n",
       "      <td>857400</td>\n",
       "      <td>NaN</td>\n",
       "    </tr>\n",
       "    <tr>\n",
       "      <th>47</th>\n",
       "      <td>2022-02-01</td>\n",
       "      <td>Compras Maestro POSNet</td>\n",
       "      <td>FRUTOS DE REY</td>\n",
       "      <td>-800.00</td>\n",
       "      <td>840636</td>\n",
       "      <td>NaN</td>\n",
       "    </tr>\n",
       "    <tr>\n",
       "      <th>48</th>\n",
       "      <td>2022-02-01</td>\n",
       "      <td>Compras Maestro POSNet</td>\n",
       "      <td>M A IMAGENES</td>\n",
       "      <td>-3000.00</td>\n",
       "      <td>792674</td>\n",
       "      <td>NaN</td>\n",
       "    </tr>\n",
       "    <tr>\n",
       "      <th>49</th>\n",
       "      <td>2022-02-01</td>\n",
       "      <td>Interés saldo deudor cuenta adelanto</td>\n",
       "      <td>NaN</td>\n",
       "      <td>-7.38</td>\n",
       "      <td>0</td>\n",
       "      <td>NaN</td>\n",
       "    </tr>\n",
       "    <tr>\n",
       "      <th>51</th>\n",
       "      <td>2022-02-01</td>\n",
       "      <td>IVA sobre comisión</td>\n",
       "      <td>NaN</td>\n",
       "      <td>-1.55</td>\n",
       "      <td>0</td>\n",
       "      <td>NaN</td>\n",
       "    </tr>\n",
       "  </tbody>\n",
       "</table>\n",
       "</div>"
      ],
      "text/plain": [
       "        Fecha                                     Concepto  \\\n",
       "0  2022-02-25  Compras Maestro POSNet                        \n",
       "1  2022-02-25  Compras Maestro POSNet                        \n",
       "2  2022-02-25  TRANSF.HB.EXENTO                              \n",
       "3  2022-02-25  Mantenimiento mundo Bancor                    \n",
       "4  2022-02-25  IVA sobre comisión                            \n",
       "5  2022-02-22  Compras Maestro POSNet                        \n",
       "6  2022-02-22  Compras Maestro POSNet                        \n",
       "7  2022-02-18  Compras Maestro POSNet                        \n",
       "8  2022-02-18  Compras Maestro POSNet                        \n",
       "9  2022-02-18  Compras Maestro POSNet                        \n",
       "10 2022-02-17  TRANSF.HB.EXENTO                              \n",
       "11 2022-02-17  Extracción en efectivo InterSucursal          \n",
       "12 2022-02-16  Compras Maestro POSNet                        \n",
       "13 2022-02-16  Compras Maestro POSNet                        \n",
       "14 2022-02-16  Compras Maestro POSNet                        \n",
       "15 2022-02-16  TRANSF.HB.EXENTO                              \n",
       "16 2022-02-16  TRANSF.HB.EXENTO                              \n",
       "17 2022-02-15  Compras Maestro POSNet                        \n",
       "18 2022-02-15  Compras Maestro POSNet                        \n",
       "19 2022-02-15  TRANSF.HB.EXENTO                              \n",
       "21 2022-02-11  Compras Maestro POSNet                        \n",
       "22 2022-02-11  Compras Maestro POSNet                        \n",
       "23 2022-02-10  TRANSF.HB.EXENTO                              \n",
       "24 2022-02-10  TRANSF.HB.EXENTO                              \n",
       "25 2022-02-10  PAGO PEI- EXENTO                              \n",
       "26 2022-02-09  Compras Maestro POSNet                        \n",
       "27 2022-02-08  TRANSF.HB.EXENTO                              \n",
       "28 2022-02-08  Débito automatico recibido Camara             \n",
       "30 2022-02-07  Compras Maestro POSNet                        \n",
       "31 2022-02-07  Compras Maestro POSNet                        \n",
       "32 2022-02-07  TRANSF.HB.EXENTO                              \n",
       "33 2022-02-07  PAGO PEI- EXENTO                              \n",
       "34 2022-02-04  Pago de resumen desde Cajero / HomeBanking    \n",
       "37 2022-02-04  TRANSF.HB.EXENTO                              \n",
       "38 2022-02-03  DEBIN                                         \n",
       "40 2022-02-02  Compras Maestro POSNet                        \n",
       "41 2022-02-02  Compras Maestro POSNet                        \n",
       "43 2022-02-02  Débito operación de cambio ME Plat. digital   \n",
       "44 2022-02-02  IMPUESTO P.A.I.S.                             \n",
       "45 2022-02-02  PERCEP GAN. TENENCIA RG 4815/20 - RESTO       \n",
       "46 2022-02-01  Compras Maestro POSNet                        \n",
       "47 2022-02-01  Compras Maestro POSNet                        \n",
       "48 2022-02-01  Compras Maestro POSNet                        \n",
       "49 2022-02-01  Interés saldo deudor cuenta adelanto          \n",
       "51 2022-02-01  IVA sobre comisión                            \n",
       "\n",
       "                                       Descripcion      Monto NroComprobante  \\\n",
       "0   VIUMI*CARNES EL FARAON                         -1500.00    284329          \n",
       "1   FRUTOS DE REY                                  -1078.00    470226          \n",
       "2   23208706454-NAVAS, MARIA GABRIELA-VAR          -50000.00   473376          \n",
       "3   NaN                                            -1432.22    0               \n",
       "4   NaN                                            -300.77     0               \n",
       "5   CHICOM SA                                      -937.50     22209           \n",
       "6   VIUMI*CARNES EL FARAON                         -780.00     773913          \n",
       "7   MERCADOPAGO*EQUUS                              -850.00     761673          \n",
       "8   CLEMENTE FULL SHOP                             -590.00     844443          \n",
       "9   DELICIUS                                       -570.00     56977           \n",
       "10  30712339442-INSTITUTO TRAUMATOLOGICO DE CO-FAC -106000.00  88800           \n",
       "11  NaN                                            -80000.00   34              \n",
       "12  MERCADOPAGO*AIRESDELAS                         -550.00     713263          \n",
       "13  DSA FCIA CRISTAL                               -400.00     28191           \n",
       "14  DSA FCIA CRISTAL                               -902.00     28189           \n",
       "15  23129889209-KRELL JORGE LEONARDO-VAR           -2500.00    891585          \n",
       "16  27396891781-MARIA FLORENCIA BUSSO-VAR          -5000.00    891459          \n",
       "17  FRUTOS DE REY                                  -970.00     250478          \n",
       "18  PANIFICADORA PUGLIESE                          -460.00     12786           \n",
       "19  27306487510-VIOLA, VALERIA NOEMI-VAR           -900.00     987566          \n",
       "21  CARNES URCA SAS                                -2140.00    882659          \n",
       "22  DELICIUS                                       -1130.00    56916           \n",
       "23  33628302729-FUERZA AEREA ARGENTINA-CUO         -1320.00    671525          \n",
       "24  20411152260-OBERTI FRANCISCO RAUL-VAR          -2224.00    724839          \n",
       "25  30643990632-GIRE S.A.-PCT000000000945          -7089.07    95458           \n",
       "26  TIENDAS BAZAR COM SRL                          -270.00     166384          \n",
       "27  27356112550-RISSO GUILLERMINA-FAC              -4500.00    494840          \n",
       "28  TARJNARANJA2                                   -63777.79   220207          \n",
       "30  MERCADOPAGO*ELCATA                             -600.00     201716          \n",
       "31  DELICIUS                                       -680.00     56796           \n",
       "32  27231976197-REVOL ETELVINA ALEJANDRA-VAR       -2000.00    447635          \n",
       "33  30643990632-GIRE S.A.-PCT000000000945          -5182.53    737146          \n",
       "34  VISA EN PESOS-************7541                 -34645.20   574383          \n",
       "37  33628302729-FUERZA AEREA ARGENTINA-CUO         -5380.00    321651          \n",
       "38  20361463359-SILVI LUCIANO-FAC                  -7899.55    463276          \n",
       "40  LA GRUTA                                       -1004.40    21232           \n",
       "41  MERCADOPAGO*FARMACIASO                         -180.00     314933          \n",
       "43  NaN                                            -11050.00   343927          \n",
       "44  NaN                                            -3315.00    343927          \n",
       "45  NaN                                            -3867.50    343927          \n",
       "46  MERCADOPAGO*NATYVOS                            -470.00     857400          \n",
       "47  FRUTOS DE REY                                  -800.00     840636          \n",
       "48  M A IMAGENES                                   -3000.00    792674          \n",
       "49  NaN                                            -7.38       0               \n",
       "51  NaN                                            -1.55       0               \n",
       "\n",
       "    Inversiones  \n",
       "0  NaN           \n",
       "1  NaN           \n",
       "2  NaN           \n",
       "3  NaN           \n",
       "4  NaN           \n",
       "5  NaN           \n",
       "6  NaN           \n",
       "7  NaN           \n",
       "8  NaN           \n",
       "9  NaN           \n",
       "10 NaN           \n",
       "11 NaN           \n",
       "12 NaN           \n",
       "13 NaN           \n",
       "14 NaN           \n",
       "15 NaN           \n",
       "16 NaN           \n",
       "17 NaN           \n",
       "18 NaN           \n",
       "19 NaN           \n",
       "21 NaN           \n",
       "22 NaN           \n",
       "23 NaN           \n",
       "24 NaN           \n",
       "25 NaN           \n",
       "26 NaN           \n",
       "27 NaN           \n",
       "28 NaN           \n",
       "30 NaN           \n",
       "31 NaN           \n",
       "32 NaN           \n",
       "33 NaN           \n",
       "34 NaN           \n",
       "37 NaN           \n",
       "38 NaN           \n",
       "40 NaN           \n",
       "41 NaN           \n",
       "43 -11050.00     \n",
       "44 -3315.00      \n",
       "45 -3867.50      \n",
       "46 NaN           \n",
       "47 NaN           \n",
       "48 NaN           \n",
       "49 NaN           \n",
       "51 NaN           "
      ]
     },
     "execution_count": 32,
     "metadata": {},
     "output_type": "execute_result"
    }
   ],
   "source": [
    "debitos"
   ]
  },
  {
   "cell_type": "code",
   "execution_count": 33,
   "id": "7dfd1dd5-3aa3-443b-9869-5e6efbf57d7b",
   "metadata": {},
   "outputs": [],
   "source": [
    "debitos['Tarjetas'] = debitos.loc[debitos['Descripcion'].str.contains('TARJNARANJA.+', regex=True, na=False) | \\\n",
    "                                      debitos['Descripcion'].str.contains('VISA.+', regex=True, na=False), 'Monto']\n",
    "debitos.loc[debitos['Descripcion'].str.contains('TARJNARANJA.+', regex=True, na=False), 'Monto'] = np.nan\n",
    "debitos.loc[debitos['Descripcion'].str.contains('VISA.+', regex=True, na=False), 'Monto'] = np.nan "
   ]
  },
  {
   "cell_type": "code",
   "execution_count": 35,
   "id": "84c5fcb9-8b13-4aa6-ab61-60623653d45a",
   "metadata": {},
   "outputs": [],
   "source": [
    "mes_deb = 'Feb_Debitos'\n",
    "rango = libro.sheets(mes_deb).tables(mes_deb).data_body_range\n",
    "fila = rango.get_address(row_absolute=False, column_absolute=False)[4:]\n",
    "#fila_ini = str(int(fila) + 3)\n",
    "#rng_ini = 'B'+ fila_ini\n",
    "#libro.sheets(mes_deb).range(rng_ini).options(pd.DataFrame, expand='table').value = totales_deb"
   ]
  },
  {
   "cell_type": "code",
   "execution_count": 72,
   "id": "c1ad87e7-46b1-4fec-8985-2839694bb807",
   "metadata": {},
   "outputs": [],
   "source": [
    "rango = libro.sheets(mes_deb).tables(mes_deb).data_body_range"
   ]
  },
  {
   "cell_type": "code",
   "execution_count": 73,
   "id": "dfc58e2c-1c8d-44b5-8419-00f59f6bfb45",
   "metadata": {},
   "outputs": [
    {
     "data": {
      "text/plain": [
       "<Range [GGastos_v060422.xlsm]Feb_Debitos!$A$2:$J$48>"
      ]
     },
     "execution_count": 73,
     "metadata": {},
     "output_type": "execute_result"
    }
   ],
   "source": [
    "rango"
   ]
  },
  {
   "cell_type": "code",
   "execution_count": 57,
   "id": "b15c70cf-8518-4b21-8583-cc509ef2943b",
   "metadata": {},
   "outputs": [
    {
     "data": {
      "text/plain": [
       "'A2:J48'"
      ]
     },
     "execution_count": 57,
     "metadata": {},
     "output_type": "execute_result"
    }
   ],
   "source": [
    "rango.get_address(row_absolute=False, column_absolute=False)"
   ]
  },
  {
   "cell_type": "code",
   "execution_count": 74,
   "id": "d7cdfa4c-15ce-4097-893a-d3581a93b737",
   "metadata": {},
   "outputs": [],
   "source": [
    "fila = rango.rows.count"
   ]
  },
  {
   "cell_type": "code",
   "execution_count": 69,
   "id": "76097cc7-f762-450d-bec5-23e962387bae",
   "metadata": {},
   "outputs": [
    {
     "data": {
      "text/plain": [
       "int"
      ]
     },
     "execution_count": 69,
     "metadata": {},
     "output_type": "execute_result"
    }
   ],
   "source": [
    "type(fila)"
   ]
  },
  {
   "cell_type": "code",
   "execution_count": 75,
   "id": "5bc58fc3-47df-4012-b585-839d1fe743ae",
   "metadata": {},
   "outputs": [
    {
     "data": {
      "text/plain": [
       "47"
      ]
     },
     "execution_count": 75,
     "metadata": {},
     "output_type": "execute_result"
    }
   ],
   "source": [
    "fila"
   ]
  },
  {
   "cell_type": "code",
   "execution_count": null,
   "id": "f3fe9c05-c14b-456d-b602-068ca84b7cc9",
   "metadata": {},
   "outputs": [],
   "source": []
  },
  {
   "cell_type": "code",
   "execution_count": 37,
   "id": "b65a9a1f-3807-4aac-b6f4-995177e84f20",
   "metadata": {},
   "outputs": [],
   "source": [
    "fila = rango.get_address(row_absolute=False, column_absolute=False)[4:]"
   ]
  },
  {
   "cell_type": "code",
   "execution_count": 39,
   "id": "c9be35ee-f1e3-4f34-96ae-8d378313c56b",
   "metadata": {},
   "outputs": [],
   "source": [
    "fila = rango.get_address(row_absolute=False, column_absolute=False)"
   ]
  },
  {
   "cell_type": "code",
   "execution_count": 40,
   "id": "8d42df37-0124-4b8e-a1ea-3126d8005e40",
   "metadata": {},
   "outputs": [
    {
     "data": {
      "text/plain": [
       "'A2:J48'"
      ]
     },
     "execution_count": 40,
     "metadata": {},
     "output_type": "execute_result"
    }
   ],
   "source": [
    "fila"
   ]
  },
  {
   "cell_type": "code",
   "execution_count": 63,
   "id": "98577803-68fc-4172-b878-76a97cd075f3",
   "metadata": {},
   "outputs": [],
   "source": [
    "mes_cre = 'Feb_Creditos'\n",
    "rangoc = libro.sheets(mes_cre).tables(mes_cre).data_body_range"
   ]
  },
  {
   "cell_type": "code",
   "execution_count": 64,
   "id": "7b51d92d-406a-4dd5-ad28-24a07d12a85e",
   "metadata": {},
   "outputs": [
    {
     "data": {
      "text/plain": [
       "<Range [GGastos_v060422.xlsm]Feb_Creditos!$A$2:$G$9>"
      ]
     },
     "execution_count": 64,
     "metadata": {},
     "output_type": "execute_result"
    }
   ],
   "source": [
    "rangoc"
   ]
  },
  {
   "cell_type": "code",
   "execution_count": 52,
   "id": "129aee06-7ad4-4ef3-a088-d2238df5f8d8",
   "metadata": {},
   "outputs": [
    {
     "data": {
      "text/plain": [
       "'A2:G9'"
      ]
     },
     "execution_count": 52,
     "metadata": {},
     "output_type": "execute_result"
    }
   ],
   "source": [
    "rangoc.get_address(row_absolute=False, column_absolute=False)"
   ]
  },
  {
   "cell_type": "code",
   "execution_count": 53,
   "id": "4632ad41-8254-4985-aa12-31fbf9a172a4",
   "metadata": {},
   "outputs": [
    {
     "data": {
      "text/plain": [
       "'9'"
      ]
     },
     "execution_count": 53,
     "metadata": {},
     "output_type": "execute_result"
    }
   ],
   "source": [
    "rangoc.get_address(row_absolute=False, column_absolute=False)[4]"
   ]
  },
  {
   "cell_type": "code",
   "execution_count": 65,
   "id": "35eae911-d407-4537-85a3-4fad4f8bf185",
   "metadata": {},
   "outputs": [
    {
     "data": {
      "text/plain": [
       "8"
      ]
     },
     "execution_count": 65,
     "metadata": {},
     "output_type": "execute_result"
    }
   ],
   "source": [
    "rangoc.rows.count"
   ]
  },
  {
   "cell_type": "code",
   "execution_count": 76,
   "id": "576eb4c9-4ccc-4798-9877-4333aa175384",
   "metadata": {},
   "outputs": [],
   "source": [
    "fila_ini = str(fila + 4)\n",
    "rng_ini = 'B'+ fila_ini\n",
    "#libro.sheets(mes_deb).range(rng_ini).options(pd.DataFrame, expand='table').value = totales_deb\n"
   ]
  },
  {
   "cell_type": "code",
   "execution_count": 77,
   "id": "fba9dfb8-b9aa-45ca-9705-c9fbb32719f8",
   "metadata": {},
   "outputs": [
    {
     "data": {
      "text/plain": [
       "'B51'"
      ]
     },
     "execution_count": 77,
     "metadata": {},
     "output_type": "execute_result"
    }
   ],
   "source": [
    "rng_ini"
   ]
  },
  {
   "cell_type": "code",
   "execution_count": null,
   "id": "a37c0b54-cef9-422c-874d-09179b6baabb",
   "metadata": {},
   "outputs": [],
   "source": []
  },
  {
   "cell_type": "code",
   "execution_count": 47,
   "id": "d2868daf-9a90-436e-807f-9f4dbf8dfd89",
   "metadata": {},
   "outputs": [
    {
     "data": {
      "text/plain": [
       "'A2:J48'"
      ]
     },
     "execution_count": 47,
     "metadata": {},
     "output_type": "execute_result"
    }
   ],
   "source": [
    "fila"
   ]
  },
  {
   "cell_type": "code",
   "execution_count": null,
   "id": "d00aa3f8-7d6b-4e00-bb0c-52b534bb39c7",
   "metadata": {},
   "outputs": [],
   "source": []
  },
  {
   "cell_type": "code",
   "execution_count": 45,
   "id": "3bcf4610-f0c8-4cf3-a8e2-4d2659c95a59",
   "metadata": {},
   "outputs": [
    {
     "data": {
      "text/plain": [
       "'48'"
      ]
     },
     "execution_count": 45,
     "metadata": {},
     "output_type": "execute_result"
    }
   ],
   "source": [
    "fila"
   ]
  },
  {
   "cell_type": "code",
   "execution_count": null,
   "id": "8e0e0d02-31a2-46a2-94bd-f18d972c4236",
   "metadata": {},
   "outputs": [],
   "source": []
  }
 ],
 "metadata": {
  "kernelspec": {
   "display_name": "Python 3 (ipykernel)",
   "language": "python",
   "name": "python3"
  },
  "language_info": {
   "codemirror_mode": {
    "name": "ipython",
    "version": 3
   },
   "file_extension": ".py",
   "mimetype": "text/x-python",
   "name": "python",
   "nbconvert_exporter": "python",
   "pygments_lexer": "ipython3",
   "version": "3.8.12"
  }
 },
 "nbformat": 4,
 "nbformat_minor": 5
}
